{
 "cells": [
  {
   "metadata": {},
   "cell_type": "markdown",
   "source": "# The Math Library - Semantic search for competition math",
   "id": "8f93116f830aeeac"
  },
  {
   "cell_type": "code",
   "id": "438626bf",
   "metadata": {},
   "source": [
    "from datasets import load_dataset\n",
    "from txtai.embeddings import Embeddings"
   ],
   "outputs": [],
   "execution_count": null
  },
  {
   "metadata": {},
   "cell_type": "markdown",
   "source": "The search database will be [NuminaMath 1.5](https://huggingface.co/datasets/AI-MO/NuminaMath-1.5), which contains around 900k competition-level math problems and their solution.",
   "id": "f7ea708f1fd55cb9"
  },
  {
   "cell_type": "code",
   "id": "144c9318",
   "metadata": {
    "ExecuteTime": {
     "end_time": "2025-05-19T14:19:33.597511Z",
     "start_time": "2025-05-19T14:19:31.873642Z"
    }
   },
   "source": [
    "ds = load_dataset(\"AI-MO/NuminaMath-1.5\", \"default\")['train'] #.select(range(10**4))\n",
    "print(ds[:5])"
   ],
   "outputs": [],
   "execution_count": 33
  },
  {
   "metadata": {},
   "cell_type": "markdown",
   "source": "We also initialize our embedding database based on [nli-mpnet-base-v2](https://huggingface.co/sentence-transformers/nli-mpnet-base-v2), which is a 100M parameter model that maps sentences to a 768 dimensional vector.",
   "id": "9985f721f31066b6"
  },
  {
   "metadata": {
    "ExecuteTime": {
     "end_time": "2025-05-19T14:19:37.132663Z",
     "start_time": "2025-05-19T14:19:36.314131Z"
    }
   },
   "cell_type": "code",
   "source": "embeddings = Embeddings({\"path\": \"sentence-transformers/nli-mpnet-base-v2\"})",
   "id": "2c0a29bc1175b74a",
   "outputs": [],
   "execution_count": 34
  },
  {
   "metadata": {},
   "cell_type": "markdown",
   "source": "Since the embedding process takes a few hours, we will save the results to give the option to simply load the embeddings from disk enabled with `load_from_disk = True`.",
   "id": "70a4be4fa887f2f3"
  },
  {
   "metadata": {
    "ExecuteTime": {
     "end_time": "2025-05-19T14:43:22.391746Z",
     "start_time": "2025-05-19T14:43:21.256091Z"
    }
   },
   "cell_type": "code",
   "source": [
    "load_from_disk = True\n",
    "\n",
    "if not load_from_disk:\n",
    "    embeddings.index([(uid, {\"text\": row[\"problem\"], \"answer\": row[\"solution\"]}, None) for uid, row in enumerate(ds)])\n",
    "    embeddings.save(\"numina-math.tar.gz\")\n",
    "else:\n",
    "    embeddings.load(\"numina-math.tar.gz\")"
   ],
   "id": "a6c2737b85db7112",
   "outputs": [],
   "execution_count": 45
  },
  {
   "metadata": {},
   "cell_type": "markdown",
   "source": "Now we can query for similar math problems using our embedding database:",
   "id": "ee7cdff226222173"
  },
  {
   "metadata": {
    "ExecuteTime": {
     "end_time": "2025-05-19T14:43:24.481439Z",
     "start_time": "2025-05-19T14:43:24.456476Z"
    }
   },
   "cell_type": "code",
   "source": [
    "# search top results, number specified by limit\n",
    "def question(text, limit=5):\n",
    "  result = embeddings.search(text, limit)\n",
    "\n",
    "  for (uid, score) in result:\n",
    "      print(score, ds[uid])\n",
    "\n",
    "question(\"Integral\")"
   ],
   "id": "c1b71fe829bb32b0",
   "outputs": [
    {
     "name": "stdout",
     "output_type": "stream",
     "text": [
      "0.4288303256034851 {'problem': 'XLIII OM - I - Task 4\\n\\nCalculate\\n\\n\\n\\n\\n\\n\\n\\n\\n\\n\\n\\n', 'solution': 'Denoting the $ n $-th term of the considered sum by $ a_n $, we obtain the equality\\n\\n\\n\\nThus, $ a_n $, as a positive number, equals $ (\\\\sqrt{n+1}- \\\\sqrt{n-1})/\\\\sqrt{2} $. Therefore,\\n\\n\\n\\n\\nWe add all these equalities side by side, reduce what can be reduced, divide both sides by $ \\\\sqrt{2} $, and obtain the result:', 'answer': 'notfound', 'problem_type': 'Other', 'question_type': 'math-word-problem', 'problem_is_valid': 'Incomplete', 'solution_is_valid': 'Yes', 'source': 'olympiads', 'synthetic': False}\n",
      "0.4279802441596985 {'problem': 'XXII OM - II - Zadanie 6\\n\\nDany jest ciąg nieskończony $ \\\\{a_n\\\\} $. Dowieść, że jeżeli \\n\\n\\n\\n\\n\\n\\nto\\n\\n\\n\\n\\n\\n\\ndla $ n = 1, 2, \\\\ldots $.\\n', 'solution': '\\nNierówność $ a_n + a_{n+2} \\\\geq 2a_{n+1} $ daną w założeniu przekształcamy do postaci równoważnej\\n\\n\\n\\n\\n\\n\\nOznaczając $ b_{n+1} = a_{n+1} - a_n $ dla $ n = 1, 2, \\\\ldots $ nierówność (1) można zapisać w postaci $ b_{n+2} &gt; b_{n+1} $. Zatem ciąg $ \\\\{b_n\\\\} $ jest niemalejący.\\nNierówność daną w tezie przekształcamy do postaci równoważnej\\n\\n\\n\\n\\n\\n\\nNierówność (2) udowodnimy przez indukcję ze względu na $ n $. Dla $ n = 1 $ przybiera ona postać $ a_1 + a_3 \\\\geq 2a_2 $. Jest to szczególny przypadek nierówności danej w założeniu.\\nZałóżmy z kolei, że nierówność (2) zachodzi dla pewnej liczby naturalnej $ n $, udowodnimy, że zachodzi ona dla liczby $ n + 1 $, tzn. że\\n\\n\\n\\n\\n\\n\\nPorównując (2) i (3) stwierdzamy, iż wystarczy dowieść, że\\n\\n\\n\\n\\n\\n\\nWtedy dodając stronami (2) i (4) otrzymamy (3).\\nPrzekształcamy nierówność (4) w sposób równoważny\\n\\n\\n\\n\\n\\n\\n\\n\\n\\n\\n\\n\\nPonieważ, jak stwierdziliśmy na początku, ciąg $ \\\\{b_n\\\\} $ jest niemalejący, więc w szczególności\\n\\n\\n[ b_{2n + 3} \\\\geq b_2, \\\\]\\n\\n\\n\\n\\n\\n[ b_{2n + 3} \\\\geq b_4, \\\\]\\n\\n\\n\\n\\n\\n[ \\\\ldots \\\\]\\n\\n\\n\\n\\n\\n[ b_{2n + 3} \\\\geq b_{2n}, \\\\]\\n\\n\\n\\n\\n\\n[ b_{2n + 3} \\\\geq b_{2n+2}. \\\\]\\n\\n\\n\\nDodając te nierówności stronami otrzymujemy (5). Zatem prawdziwe są nierówności (4) i (3). Wobec tego na mocy zasady indukcji nierówność (2) zachodzi dla każdej liczby naturalnej $ n $.\\n', 'answer': 'proof', 'problem_type': 'Algebra', 'question_type': 'proof', 'problem_is_valid': 'Incomplete', 'solution_is_valid': 'Yes', 'source': 'olympiads', 'synthetic': False}\n",
      "0.411101758480072 {'problem': 'IV OM - II - Task 2\\n\\nProve that the equation\\n\\n\\n\\n\\nin which $ a < b < c < d $, has two real roots.', 'solution': \"Let's consider the left side of equation (1), i.e., the quadratic function\\n\\nWe know from algebra that a quadratic function has two real roots (or zeros) if and only if it takes on both positive and negative values. If $ x $ is greater than each of the numbers $ a $, $ b $, $ c $, $ d $, then each of the differences $ x - a $, $ x - b $, $ x - c $, $ x - d $ is positive, and function (2) has a positive value. It is easy to indicate a value of $ x $ for which this function is negative; for example, if $ x = b $, function (2) has the value\\n\\nwhich is negative, since according to the assumption $ b - a > 0 $, and $ b - c < 0 $. The theorem is thus proved.\\nNote 1. From the above proof, it is clear that instead of the assumption $ a < b < c < d $, it suffices to assume that $ a < b < c $.\\nSimilarly, the assumption $ b < c < d $ would suffice, for then substituting the value $ x = c $ into (2) would yield the negative number $ (c - b) (c - d) $. Moreover, the value of expression (2) does not change if we swap the letters $ a $ and $ c $, and also if we swap the letters $ b $ and $ d $. We can therefore state a stronger theorem than the one above:\\nIf one of the numbers $ b $ and $ d $ lies between the numbers $ a $ and $ c $, or if one of the numbers $ a $ and $ c $ lies between the numbers $ b $ and $ d $, then equation (1) has two real roots.\\nThis theorem will remain true if in equation (1) the coefficient $ 2 $ is replaced by any positive number $ k $; the proof above does not require any changes. It will be different if we replace the coefficient $ 2 $ with a negative number. We propose to the Reader to consider this case and find a sufficient condition for the reality of the roots of the equation.\\nNote 2. Another, though much longer, proof of the theorem can be derived from considering the discriminant of equation (1):\\n\\nFollowing the solution to problem 24, we can easily show that if one of the numbers $ a $ and $ c $ lies between the numbers $ b $ and $ d $, or if one of the numbers $ b $ and $ d $ lies between the numbers $ a $ and $ c $, then $ \\\\Delta > 0 $.\", 'answer': 'proof', 'problem_type': 'Algebra', 'question_type': 'proof', 'problem_is_valid': 'Incomplete', 'solution_is_valid': 'Yes', 'source': 'olympiads', 'synthetic': False}\n",
      "0.4104694128036499 {'problem': 'XII OM - II - Task 3\\n\\nProve that for any angles $ x $, $ y $, $ z $ the following equality holds', 'solution': 'We transform the right side of equation (1) by first applying the formula $ 2 \\\\sin \\\\alpha \\\\sin \\\\beta = \\\\cos (\\\\alpha - \\\\beta) - \\\\cos (\\\\alpha + \\\\beta) $, and then the formulas for $ \\\\cos (\\\\alpha + \\\\beta) $ and $ \\\\cos (\\\\alpha - \\\\beta) $:\\n\\n\\n\\n\\n\\n\\nAfter substituting in the last expression $ \\\\sin^2 x \\\\sin^2 y = (1 - \\\\cos^2 x) (1 - \\\\cos^2 y) $, and expanding and reducing the brackets, we obtain an expression equal to the left side of equation (1).', 'answer': 'proof', 'problem_type': 'Algebra', 'question_type': 'proof', 'problem_is_valid': 'Yes', 'solution_is_valid': 'Yes', 'source': 'olympiads', 'synthetic': False}\n",
      "0.40973085165023804 {'problem': 'XII OM - III - Task 2\\n\\nProve that if $ a + b = 1 $, then', 'solution': '\\\\spos{I} If $ a = \\\\frac{1}{2} + d $, then $ b = \\\\frac{1}{2} - d $\\n\\n\\n\\n\\n\\n\\n\\n\\n\\n\\n\\n\\ntherefore\\n\\n\\n\\n\\n\\n\\nSince $ d^2 \\\\geq 0 $ and $ d^4 \\\\geq 0 $, we will obtain from this\\n\\n\\n\\n\\n\\n\\nNote. The theorem proved above is a special case of the theorem: If $ a + b = 1 $, then\\n\\n\\n\\n\\n\\n\\nThe proof of this theorem can easily be conducted in the manner of method I. It can also be conducted by following method II and using the following inductive reasoning. When $ n = 1 $, the theorem (1) is true. Suppose it is true for every value of $ n $ less than some natural number $ m $. We will prove that it is also true when $ n $ equals $ m $. If $ m $ is even, for example, $ m = 2k $, then $ k < m $, so\\n\\n\\n\\n\\n\\n\\nIf, however, $ m $ is odd, for example, $ m = 2k + 1 $, then $ m = k + (k + 1) $, where $ k < m $ and $ k+1 < m $, so', 'answer': 'proof', 'problem_type': 'Algebra', 'question_type': 'proof', 'problem_is_valid': 'Incomplete', 'solution_is_valid': 'Incomplete', 'source': 'olympiads', 'synthetic': False}\n"
     ]
    }
   ],
   "execution_count": 46
  },
  {
   "metadata": {},
   "cell_type": "markdown",
   "source": "(c) Mia Müßig",
   "id": "d144b41c0b4fc1a4"
  }
 ],
 "metadata": {
  "kernelspec": {
   "display_name": "Python 3",
   "language": "python",
   "name": "python3"
  },
  "language_info": {
   "codemirror_mode": {
    "name": "ipython",
    "version": 3
   },
   "file_extension": ".py",
   "mimetype": "text/x-python",
   "name": "python",
   "nbconvert_exporter": "python",
   "pygments_lexer": "ipython3",
   "version": "3.10.12"
  }
 },
 "nbformat": 4,
 "nbformat_minor": 5
}
